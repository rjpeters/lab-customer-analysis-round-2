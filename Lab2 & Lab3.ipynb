{
 "cells": [
  {
   "cell_type": "markdown",
   "id": "e8efb690",
   "metadata": {},
   "source": [
    "# Lab 2"
   ]
  },
  {
   "cell_type": "markdown",
   "id": "b9383962",
   "metadata": {},
   "source": [
    "# Rik"
   ]
  },
  {
   "cell_type": "code",
   "execution_count": 1,
   "id": "356ceab4",
   "metadata": {
    "scrolled": true
   },
   "outputs": [
    {
     "data": {
      "text/plain": [
       "'# Lab | Customer Analysis Round 2\\n\\nFor this lab, we will be using the `marketing_customer_analysis.csv` file that you can find in the `files_for_lab` folder. Check out the `files_for_lab/about.md` to get more information if you are using the Online Excel.\\n\\n**Note**: For the next labs we will be using the same data file. Please save the code, so that you can re-use it later in the labs following this lab.\\n\\n### Dealing with the data\\n\\n1. Show the dataframe shape.\\n2. Standardize header names.\\n3. Which columns are numerical?\\n4. Which columns are categorical?\\n5. Check and deal with `NaN` values.\\n6. Datetime format - Extract the months from the dataset and store in a separate column. Then filter the data to show only the information for the first quarter , ie. January, February and March. _Hint_: If data from March does not exist, consider only January and February.\\n7. BONUS: Put all the previously mentioned data transformations into a function.'"
      ]
     },
     "execution_count": 1,
     "metadata": {},
     "output_type": "execute_result"
    }
   ],
   "source": [
    "'''# Lab | Customer Analysis Round 2\n",
    "\n",
    "For this lab, we will be using the `marketing_customer_analysis.csv` file that you can find in the `files_for_lab` folder. Check out the `files_for_lab/about.md` to get more information if you are using the Online Excel.\n",
    "\n",
    "**Note**: For the next labs we will be using the same data file. Please save the code, so that you can re-use it later in the labs following this lab.\n",
    "\n",
    "### Dealing with the data\n",
    "\n",
    "1. Show the dataframe shape.\n",
    "2. Standardize header names.\n",
    "3. Which columns are numerical?\n",
    "4. Which columns are categorical?\n",
    "5. Check and deal with `NaN` values.\n",
    "6. Datetime format - Extract the months from the dataset and store in a separate column. Then filter the data to show only the information for the first quarter , ie. January, February and March. _Hint_: If data from March does not exist, consider only January and February.\n",
    "7. BONUS: Put all the previously mentioned data transformations into a function.'''"
   ]
  },
  {
   "cell_type": "code",
   "execution_count": 8,
   "id": "0cbbda69",
   "metadata": {},
   "outputs": [],
   "source": [
    "import pandas as pd"
   ]
  },
  {
   "cell_type": "code",
   "execution_count": 9,
   "id": "93284c88",
   "metadata": {},
   "outputs": [],
   "source": [
    "data = pd.read_csv('./files_for_lab/csv_files/marketing_customer_analysis.csv')"
   ]
  },
  {
   "cell_type": "markdown",
   "id": "f3cbb79c",
   "metadata": {},
   "source": [
    "## 1. Show the dataframe shape."
   ]
  },
  {
   "cell_type": "code",
   "execution_count": 10,
   "id": "12d6bdda",
   "metadata": {},
   "outputs": [
    {
     "data": {
      "text/plain": [
       "(10910, 26)"
      ]
     },
     "execution_count": 10,
     "metadata": {},
     "output_type": "execute_result"
    }
   ],
   "source": [
    "data.shape"
   ]
  },
  {
   "cell_type": "markdown",
   "id": "6a370dd3",
   "metadata": {},
   "source": [
    "## 2. Standardize header names."
   ]
  },
  {
   "cell_type": "code",
   "execution_count": 12,
   "id": "16158359",
   "metadata": {},
   "outputs": [
    {
     "data": {
      "text/plain": [
       "Index(['Customer', 'State', 'Customer Lifetime Value', 'Response', 'Coverage',\n",
       "       'Education', 'Effective To Date', 'Employment Status', 'Gender',\n",
       "       'Income', 'Location Code', 'Marital Status', 'Monthly Premium Auto',\n",
       "       'Months Since Last Claim', 'Months Since Policy Inception',\n",
       "       'Number of Open Complaints', 'Number of Policies', 'Policy Type',\n",
       "       'Policy', 'Renew Offer Type', 'Sales Channel', 'Total Claim Amount',\n",
       "       'Vehicle Class', 'Vehicle Size', 'Vehicle Type'],\n",
       "      dtype='object')"
      ]
     },
     "execution_count": 12,
     "metadata": {},
     "output_type": "execute_result"
    }
   ],
   "source": [
    "# First step: retrieve header names. \n",
    "\n",
    "data.columns"
   ]
  },
  {
   "cell_type": "code",
   "execution_count": 11,
   "id": "a7313a5c",
   "metadata": {},
   "outputs": [],
   "source": [
    "data = data.rename(columns={'EmploymentStatus':'Employment Status'})\n",
    "data = data.drop(['Unnamed: 0'], axis = 1)"
   ]
  },
  {
   "cell_type": "markdown",
   "id": "a053f29d",
   "metadata": {},
   "source": [
    "## 3. Which columns are numerical?"
   ]
  },
  {
   "cell_type": "code",
   "execution_count": 13,
   "id": "814f96c4",
   "metadata": {},
   "outputs": [
    {
     "data": {
      "text/plain": [
       "Index(['Customer Lifetime Value', 'Income', 'Monthly Premium Auto',\n",
       "       'Months Since Last Claim', 'Months Since Policy Inception',\n",
       "       'Number of Open Complaints', 'Number of Policies',\n",
       "       'Total Claim Amount'],\n",
       "      dtype='object')"
      ]
     },
     "execution_count": 13,
     "metadata": {},
     "output_type": "execute_result"
    }
   ],
   "source": [
    "data._get_numeric_data().columns"
   ]
  },
  {
   "cell_type": "markdown",
   "id": "493f616b",
   "metadata": {},
   "source": [
    "## 4. Which columns are categorical?"
   ]
  },
  {
   "cell_type": "code",
   "execution_count": null,
   "id": "e8b89cc7",
   "metadata": {},
   "outputs": [],
   "source": [
    "The other ones."
   ]
  },
  {
   "cell_type": "markdown",
   "id": "6244a2c3",
   "metadata": {},
   "source": [
    "## 5. Check and deal with `NaN` values."
   ]
  },
  {
   "cell_type": "code",
   "execution_count": 22,
   "id": "85bdf226",
   "metadata": {},
   "outputs": [
    {
     "data": {
      "text/plain": [
       "ID number                           0\n",
       "Customer                            0\n",
       "State                             631\n",
       "Customer Lifetime Value             0\n",
       "Response                          631\n",
       "Coverage                            0\n",
       "Education                           0\n",
       "Effective To Date                   0\n",
       "Employment Status                   0\n",
       "Gender                              0\n",
       "Income                              0\n",
       "Location Code                       0\n",
       "Marital Status                      0\n",
       "Monthly Premium Auto                0\n",
       "Months Since Last Claim           633\n",
       "Months Since Policy Inception       0\n",
       "Number of Open Complaints         633\n",
       "Number of Policies                  0\n",
       "Policy Type                         0\n",
       "Policy                              0\n",
       "Renew Offer Type                    0\n",
       "Sales Channel                       0\n",
       "Total Claim Amount                  0\n",
       "Vehicle Class                     622\n",
       "Vehicle Size                      622\n",
       "Vehicle Type                     5482\n",
       "dtype: int64"
      ]
     },
     "execution_count": 22,
     "metadata": {},
     "output_type": "execute_result"
    }
   ],
   "source": [
    "data.isna().sum()"
   ]
  },
  {
   "cell_type": "code",
   "execution_count": 14,
   "id": "40b01edb",
   "metadata": {},
   "outputs": [
    {
     "data": {
      "text/plain": [
       "Customer                          0.00\n",
       "State                             5.78\n",
       "Customer Lifetime Value           0.00\n",
       "Response                          5.78\n",
       "Coverage                          0.00\n",
       "Education                         0.00\n",
       "Effective To Date                 0.00\n",
       "Employment Status                 0.00\n",
       "Gender                            0.00\n",
       "Income                            0.00\n",
       "Location Code                     0.00\n",
       "Marital Status                    0.00\n",
       "Monthly Premium Auto              0.00\n",
       "Months Since Last Claim           5.80\n",
       "Months Since Policy Inception     0.00\n",
       "Number of Open Complaints         5.80\n",
       "Number of Policies                0.00\n",
       "Policy Type                       0.00\n",
       "Policy                            0.00\n",
       "Renew Offer Type                  0.00\n",
       "Sales Channel                     0.00\n",
       "Total Claim Amount                0.00\n",
       "Vehicle Class                     5.70\n",
       "Vehicle Size                      5.70\n",
       "Vehicle Type                     50.25\n",
       "dtype: float64"
      ]
     },
     "execution_count": 14,
     "metadata": {},
     "output_type": "execute_result"
    }
   ],
   "source": [
    "round(data.isna().sum()/len(data),4)*100"
   ]
  },
  {
   "cell_type": "markdown",
   "id": "fc7d9dc9",
   "metadata": {},
   "source": [
    "### 5.1. In which our hero tackles the smaller quantities (everything but vehicle type)"
   ]
  },
  {
   "cell_type": "code",
   "execution_count": null,
   "id": "fbed4f04",
   "metadata": {},
   "outputs": [],
   "source": [
    "# This tells me I could drop the rows containing null values for the State, Response, Months Since Last Claim, Number of Open Complaints, Vehicle Class, and Vehicle Size columns.\n",
    "# I'm also curious if the sets with the same number of NaN values (State&Response, Months Since Last Claim&Number of Open Complaints, Vehicle Class&Vehicle Size) overlap."
   ]
  },
  {
   "cell_type": "code",
   "execution_count": 22,
   "id": "a402d85b",
   "metadata": {},
   "outputs": [
    {
     "name": "stdout",
     "output_type": "stream",
     "text": [
      "631\n",
      "633\n",
      "622\n"
     ]
    }
   ],
   "source": [
    "print(len(data[(data['State'].isna()) & (data['Response'].isna())]))\n",
    "print(len(data[(data['Months Since Last Claim'].isna()) & (data['Number of Open Complaints'].isna())]))\n",
    "print(len(data[(data['Vehicle Class'].isna()) & (data['Vehicle Size'].isna())]))\n",
    "\n",
    "#And it turns out they do overlap, which makes me all the more confident that I can drop them (since I will only drop a max of 17.28% of columns this way)"
   ]
  },
  {
   "cell_type": "code",
   "execution_count": 24,
   "id": "2550f1d4",
   "metadata": {},
   "outputs": [],
   "source": [
    "# This is where I drop those columns (I just learned that I only need to drop one of the pairs to get rid of all the NaNs)\n",
    "\n",
    "data = data[data['State'].isna() == False]\n",
    "data = data[data['Months Since Last Claim'].isna() == False]\n",
    "data = data[data['Vehicle Class'].isna() == False]"
   ]
  },
  {
   "cell_type": "code",
   "execution_count": 26,
   "id": "5c5c9460",
   "metadata": {
    "scrolled": true
   },
   "outputs": [
    {
     "data": {
      "text/plain": [
       "Customer                            0\n",
       "State                               0\n",
       "Customer Lifetime Value             0\n",
       "Response                            0\n",
       "Coverage                            0\n",
       "Education                           0\n",
       "Effective To Date                   0\n",
       "Employment Status                   0\n",
       "Gender                              0\n",
       "Income                              0\n",
       "Location Code                       0\n",
       "Marital Status                      0\n",
       "Monthly Premium Auto                0\n",
       "Months Since Last Claim             0\n",
       "Months Since Policy Inception       0\n",
       "Number of Open Complaints           0\n",
       "Number of Policies                  0\n",
       "Policy Type                         0\n",
       "Policy                              0\n",
       "Renew Offer Type                    0\n",
       "Sales Channel                       0\n",
       "Total Claim Amount                  0\n",
       "Vehicle Class                       0\n",
       "Vehicle Size                        0\n",
       "Vehicle Type                     4591\n",
       "dtype: int64"
      ]
     },
     "execution_count": 26,
     "metadata": {},
     "output_type": "execute_result"
    }
   ],
   "source": [
    "# Check if that worked\n",
    "data.isna().sum()"
   ]
  },
  {
   "cell_type": "markdown",
   "id": "ff883f42",
   "metadata": {},
   "source": [
    "### 5.2. In which our hero tackles the big beast that is Vehicle Type"
   ]
  },
  {
   "cell_type": "code",
   "execution_count": 30,
   "id": "43e75dd5",
   "metadata": {},
   "outputs": [
    {
     "data": {
      "text/plain": [
       "array([nan, 'A'], dtype=object)"
      ]
     },
     "execution_count": 30,
     "metadata": {},
     "output_type": "execute_result"
    }
   ],
   "source": [
    "#First order of business: see how many unique entries there are\n",
    "\n",
    "len(data['Vehicle Type'].unique())\n",
    "data['Vehicle Type'].unique()"
   ]
  },
  {
   "cell_type": "code",
   "execution_count": 31,
   "id": "69b27647",
   "metadata": {},
   "outputs": [],
   "source": [
    "# It's only NaN and A. This gives me two options: either replace all the NaNs with A's (which gives a pointless data set), or drop the whole column\n",
    "# I prefer dropping the whole column, to not have some useless data just hanging there."
   ]
  },
  {
   "cell_type": "code",
   "execution_count": 33,
   "id": "6eeaca17",
   "metadata": {},
   "outputs": [],
   "source": [
    "data = data.drop(['Vehicle Type'], axis = 1)"
   ]
  },
  {
   "cell_type": "code",
   "execution_count": 35,
   "id": "290c6b66",
   "metadata": {},
   "outputs": [
    {
     "data": {
      "text/plain": [
       "Customer                         0\n",
       "State                            0\n",
       "Customer Lifetime Value          0\n",
       "Response                         0\n",
       "Coverage                         0\n",
       "Education                        0\n",
       "Effective To Date                0\n",
       "Employment Status                0\n",
       "Gender                           0\n",
       "Income                           0\n",
       "Location Code                    0\n",
       "Marital Status                   0\n",
       "Monthly Premium Auto             0\n",
       "Months Since Last Claim          0\n",
       "Months Since Policy Inception    0\n",
       "Number of Open Complaints        0\n",
       "Number of Policies               0\n",
       "Policy Type                      0\n",
       "Policy                           0\n",
       "Renew Offer Type                 0\n",
       "Sales Channel                    0\n",
       "Total Claim Amount               0\n",
       "Vehicle Class                    0\n",
       "Vehicle Size                     0\n",
       "dtype: int64"
      ]
     },
     "execution_count": 35,
     "metadata": {},
     "output_type": "execute_result"
    }
   ],
   "source": [
    "# And then check if it worked\n",
    "data.isna().sum()"
   ]
  },
  {
   "cell_type": "code",
   "execution_count": 17,
   "id": "39fd5d71",
   "metadata": {},
   "outputs": [],
   "source": [
    "# Finally, reset the index\n",
    "data = data.reset_index(drop=True)"
   ]
  },
  {
   "cell_type": "markdown",
   "id": "3b67aff7",
   "metadata": {},
   "source": [
    "## 6. Datetime format - Extract the months from the dataset and store in a separate column. Then filter the data to show only the information for the first quarter , ie. January, February and March. _Hint_: If data from March does not exist, consider only January and February."
   ]
  },
  {
   "cell_type": "code",
   "execution_count": 49,
   "id": "0c66ef4e",
   "metadata": {},
   "outputs": [],
   "source": [
    "data['month'] = [item.month for item in pd.to_datetime(data['Effective To Date'], errors='coerce')]\n",
    "\n",
    "#Not the prettiest oneliner, but it gets the job done"
   ]
  },
  {
   "cell_type": "code",
   "execution_count": 51,
   "id": "831a62f4",
   "metadata": {},
   "outputs": [
    {
     "data": {
      "text/html": [
       "<div>\n",
       "<style scoped>\n",
       "    .dataframe tbody tr th:only-of-type {\n",
       "        vertical-align: middle;\n",
       "    }\n",
       "\n",
       "    .dataframe tbody tr th {\n",
       "        vertical-align: top;\n",
       "    }\n",
       "\n",
       "    .dataframe thead th {\n",
       "        text-align: right;\n",
       "    }\n",
       "</style>\n",
       "<table border=\"1\" class=\"dataframe\">\n",
       "  <thead>\n",
       "    <tr style=\"text-align: right;\">\n",
       "      <th></th>\n",
       "      <th>ID number</th>\n",
       "      <th>Customer</th>\n",
       "      <th>State</th>\n",
       "      <th>Customer Lifetime Value</th>\n",
       "      <th>Response</th>\n",
       "      <th>Coverage</th>\n",
       "      <th>Education</th>\n",
       "      <th>Effective To Date</th>\n",
       "      <th>Employment Status</th>\n",
       "      <th>Gender</th>\n",
       "      <th>...</th>\n",
       "      <th>Number of Policies</th>\n",
       "      <th>Policy Type</th>\n",
       "      <th>Policy</th>\n",
       "      <th>Renew Offer Type</th>\n",
       "      <th>Sales Channel</th>\n",
       "      <th>Total Claim Amount</th>\n",
       "      <th>Vehicle Class</th>\n",
       "      <th>Vehicle Size</th>\n",
       "      <th>Vehicle Type</th>\n",
       "      <th>month</th>\n",
       "    </tr>\n",
       "  </thead>\n",
       "  <tbody>\n",
       "    <tr>\n",
       "      <th>0</th>\n",
       "      <td>0</td>\n",
       "      <td>DK49336</td>\n",
       "      <td>Arizona</td>\n",
       "      <td>4809.216960</td>\n",
       "      <td>No</td>\n",
       "      <td>Basic</td>\n",
       "      <td>College</td>\n",
       "      <td>2/18/11</td>\n",
       "      <td>Employed</td>\n",
       "      <td>M</td>\n",
       "      <td>...</td>\n",
       "      <td>9</td>\n",
       "      <td>Corporate Auto</td>\n",
       "      <td>Corporate L3</td>\n",
       "      <td>Offer3</td>\n",
       "      <td>Agent</td>\n",
       "      <td>292.800000</td>\n",
       "      <td>Four-Door Car</td>\n",
       "      <td>Medsize</td>\n",
       "      <td>NaN</td>\n",
       "      <td>2</td>\n",
       "    </tr>\n",
       "    <tr>\n",
       "      <th>1</th>\n",
       "      <td>1</td>\n",
       "      <td>KX64629</td>\n",
       "      <td>California</td>\n",
       "      <td>2228.525238</td>\n",
       "      <td>No</td>\n",
       "      <td>Basic</td>\n",
       "      <td>College</td>\n",
       "      <td>1/18/11</td>\n",
       "      <td>Unemployed</td>\n",
       "      <td>F</td>\n",
       "      <td>...</td>\n",
       "      <td>1</td>\n",
       "      <td>Personal Auto</td>\n",
       "      <td>Personal L3</td>\n",
       "      <td>Offer4</td>\n",
       "      <td>Call Center</td>\n",
       "      <td>744.924331</td>\n",
       "      <td>Four-Door Car</td>\n",
       "      <td>Medsize</td>\n",
       "      <td>NaN</td>\n",
       "      <td>1</td>\n",
       "    </tr>\n",
       "    <tr>\n",
       "      <th>2</th>\n",
       "      <td>2</td>\n",
       "      <td>LZ68649</td>\n",
       "      <td>Washington</td>\n",
       "      <td>14947.917300</td>\n",
       "      <td>No</td>\n",
       "      <td>Basic</td>\n",
       "      <td>Bachelor</td>\n",
       "      <td>2/10/11</td>\n",
       "      <td>Employed</td>\n",
       "      <td>M</td>\n",
       "      <td>...</td>\n",
       "      <td>2</td>\n",
       "      <td>Personal Auto</td>\n",
       "      <td>Personal L3</td>\n",
       "      <td>Offer3</td>\n",
       "      <td>Call Center</td>\n",
       "      <td>480.000000</td>\n",
       "      <td>SUV</td>\n",
       "      <td>Medsize</td>\n",
       "      <td>A</td>\n",
       "      <td>2</td>\n",
       "    </tr>\n",
       "    <tr>\n",
       "      <th>3</th>\n",
       "      <td>3</td>\n",
       "      <td>XL78013</td>\n",
       "      <td>Oregon</td>\n",
       "      <td>22332.439460</td>\n",
       "      <td>Yes</td>\n",
       "      <td>Extended</td>\n",
       "      <td>College</td>\n",
       "      <td>1/11/11</td>\n",
       "      <td>Employed</td>\n",
       "      <td>M</td>\n",
       "      <td>...</td>\n",
       "      <td>2</td>\n",
       "      <td>Corporate Auto</td>\n",
       "      <td>Corporate L3</td>\n",
       "      <td>Offer2</td>\n",
       "      <td>Branch</td>\n",
       "      <td>484.013411</td>\n",
       "      <td>Four-Door Car</td>\n",
       "      <td>Medsize</td>\n",
       "      <td>A</td>\n",
       "      <td>1</td>\n",
       "    </tr>\n",
       "    <tr>\n",
       "      <th>4</th>\n",
       "      <td>4</td>\n",
       "      <td>QA50777</td>\n",
       "      <td>Oregon</td>\n",
       "      <td>9025.067525</td>\n",
       "      <td>No</td>\n",
       "      <td>Premium</td>\n",
       "      <td>Bachelor</td>\n",
       "      <td>1/17/11</td>\n",
       "      <td>Medical Leave</td>\n",
       "      <td>F</td>\n",
       "      <td>...</td>\n",
       "      <td>7</td>\n",
       "      <td>Personal Auto</td>\n",
       "      <td>Personal L2</td>\n",
       "      <td>Offer1</td>\n",
       "      <td>Branch</td>\n",
       "      <td>707.925645</td>\n",
       "      <td>Four-Door Car</td>\n",
       "      <td>Medsize</td>\n",
       "      <td>NaN</td>\n",
       "      <td>1</td>\n",
       "    </tr>\n",
       "    <tr>\n",
       "      <th>...</th>\n",
       "      <td>...</td>\n",
       "      <td>...</td>\n",
       "      <td>...</td>\n",
       "      <td>...</td>\n",
       "      <td>...</td>\n",
       "      <td>...</td>\n",
       "      <td>...</td>\n",
       "      <td>...</td>\n",
       "      <td>...</td>\n",
       "      <td>...</td>\n",
       "      <td>...</td>\n",
       "      <td>...</td>\n",
       "      <td>...</td>\n",
       "      <td>...</td>\n",
       "      <td>...</td>\n",
       "      <td>...</td>\n",
       "      <td>...</td>\n",
       "      <td>...</td>\n",
       "      <td>...</td>\n",
       "      <td>...</td>\n",
       "      <td>...</td>\n",
       "    </tr>\n",
       "    <tr>\n",
       "      <th>10905</th>\n",
       "      <td>10905</td>\n",
       "      <td>FE99816</td>\n",
       "      <td>Nevada</td>\n",
       "      <td>15563.369440</td>\n",
       "      <td>No</td>\n",
       "      <td>Premium</td>\n",
       "      <td>Bachelor</td>\n",
       "      <td>1/19/11</td>\n",
       "      <td>Unemployed</td>\n",
       "      <td>F</td>\n",
       "      <td>...</td>\n",
       "      <td>7</td>\n",
       "      <td>Personal Auto</td>\n",
       "      <td>Personal L1</td>\n",
       "      <td>Offer3</td>\n",
       "      <td>Web</td>\n",
       "      <td>1214.400000</td>\n",
       "      <td>Luxury Car</td>\n",
       "      <td>Medsize</td>\n",
       "      <td>A</td>\n",
       "      <td>1</td>\n",
       "    </tr>\n",
       "    <tr>\n",
       "      <th>10906</th>\n",
       "      <td>10906</td>\n",
       "      <td>KX53892</td>\n",
       "      <td>Oregon</td>\n",
       "      <td>5259.444853</td>\n",
       "      <td>No</td>\n",
       "      <td>Basic</td>\n",
       "      <td>College</td>\n",
       "      <td>1/6/11</td>\n",
       "      <td>Employed</td>\n",
       "      <td>F</td>\n",
       "      <td>...</td>\n",
       "      <td>6</td>\n",
       "      <td>Personal Auto</td>\n",
       "      <td>Personal L3</td>\n",
       "      <td>Offer2</td>\n",
       "      <td>Branch</td>\n",
       "      <td>273.018929</td>\n",
       "      <td>Four-Door Car</td>\n",
       "      <td>Medsize</td>\n",
       "      <td>A</td>\n",
       "      <td>1</td>\n",
       "    </tr>\n",
       "    <tr>\n",
       "      <th>10907</th>\n",
       "      <td>10907</td>\n",
       "      <td>TL39050</td>\n",
       "      <td>Arizona</td>\n",
       "      <td>23893.304100</td>\n",
       "      <td>No</td>\n",
       "      <td>Extended</td>\n",
       "      <td>Bachelor</td>\n",
       "      <td>2/6/11</td>\n",
       "      <td>Employed</td>\n",
       "      <td>F</td>\n",
       "      <td>...</td>\n",
       "      <td>2</td>\n",
       "      <td>Corporate Auto</td>\n",
       "      <td>Corporate L3</td>\n",
       "      <td>Offer1</td>\n",
       "      <td>Web</td>\n",
       "      <td>381.306996</td>\n",
       "      <td>Luxury SUV</td>\n",
       "      <td>Medsize</td>\n",
       "      <td>NaN</td>\n",
       "      <td>2</td>\n",
       "    </tr>\n",
       "    <tr>\n",
       "      <th>10908</th>\n",
       "      <td>10908</td>\n",
       "      <td>WA60547</td>\n",
       "      <td>California</td>\n",
       "      <td>11971.977650</td>\n",
       "      <td>No</td>\n",
       "      <td>Premium</td>\n",
       "      <td>College</td>\n",
       "      <td>2/13/11</td>\n",
       "      <td>Employed</td>\n",
       "      <td>F</td>\n",
       "      <td>...</td>\n",
       "      <td>6</td>\n",
       "      <td>Personal Auto</td>\n",
       "      <td>Personal L1</td>\n",
       "      <td>Offer1</td>\n",
       "      <td>Branch</td>\n",
       "      <td>618.288849</td>\n",
       "      <td>SUV</td>\n",
       "      <td>Medsize</td>\n",
       "      <td>A</td>\n",
       "      <td>2</td>\n",
       "    </tr>\n",
       "    <tr>\n",
       "      <th>10909</th>\n",
       "      <td>10909</td>\n",
       "      <td>IV32877</td>\n",
       "      <td>NaN</td>\n",
       "      <td>6857.519928</td>\n",
       "      <td>NaN</td>\n",
       "      <td>Basic</td>\n",
       "      <td>Bachelor</td>\n",
       "      <td>1/8/11</td>\n",
       "      <td>Unemployed</td>\n",
       "      <td>M</td>\n",
       "      <td>...</td>\n",
       "      <td>3</td>\n",
       "      <td>Personal Auto</td>\n",
       "      <td>Personal L1</td>\n",
       "      <td>Offer4</td>\n",
       "      <td>Web</td>\n",
       "      <td>1021.719397</td>\n",
       "      <td>SUV</td>\n",
       "      <td>Medsize</td>\n",
       "      <td>NaN</td>\n",
       "      <td>1</td>\n",
       "    </tr>\n",
       "  </tbody>\n",
       "</table>\n",
       "<p>10910 rows × 27 columns</p>\n",
       "</div>"
      ],
      "text/plain": [
       "       ID number Customer       State  Customer Lifetime Value Response  \\\n",
       "0              0  DK49336     Arizona              4809.216960       No   \n",
       "1              1  KX64629  California              2228.525238       No   \n",
       "2              2  LZ68649  Washington             14947.917300       No   \n",
       "3              3  XL78013      Oregon             22332.439460      Yes   \n",
       "4              4  QA50777      Oregon              9025.067525       No   \n",
       "...          ...      ...         ...                      ...      ...   \n",
       "10905      10905  FE99816      Nevada             15563.369440       No   \n",
       "10906      10906  KX53892      Oregon              5259.444853       No   \n",
       "10907      10907  TL39050     Arizona             23893.304100       No   \n",
       "10908      10908  WA60547  California             11971.977650       No   \n",
       "10909      10909  IV32877         NaN              6857.519928      NaN   \n",
       "\n",
       "       Coverage Education Effective To Date Employment Status Gender  ...  \\\n",
       "0         Basic   College           2/18/11          Employed      M  ...   \n",
       "1         Basic   College           1/18/11        Unemployed      F  ...   \n",
       "2         Basic  Bachelor           2/10/11          Employed      M  ...   \n",
       "3      Extended   College           1/11/11          Employed      M  ...   \n",
       "4       Premium  Bachelor           1/17/11     Medical Leave      F  ...   \n",
       "...         ...       ...               ...               ...    ...  ...   \n",
       "10905   Premium  Bachelor           1/19/11        Unemployed      F  ...   \n",
       "10906     Basic   College            1/6/11          Employed      F  ...   \n",
       "10907  Extended  Bachelor            2/6/11          Employed      F  ...   \n",
       "10908   Premium   College           2/13/11          Employed      F  ...   \n",
       "10909     Basic  Bachelor            1/8/11        Unemployed      M  ...   \n",
       "\n",
       "       Number of Policies     Policy Type        Policy  Renew Offer Type  \\\n",
       "0                       9  Corporate Auto  Corporate L3            Offer3   \n",
       "1                       1   Personal Auto   Personal L3            Offer4   \n",
       "2                       2   Personal Auto   Personal L3            Offer3   \n",
       "3                       2  Corporate Auto  Corporate L3            Offer2   \n",
       "4                       7   Personal Auto   Personal L2            Offer1   \n",
       "...                   ...             ...           ...               ...   \n",
       "10905                   7   Personal Auto   Personal L1            Offer3   \n",
       "10906                   6   Personal Auto   Personal L3            Offer2   \n",
       "10907                   2  Corporate Auto  Corporate L3            Offer1   \n",
       "10908                   6   Personal Auto   Personal L1            Offer1   \n",
       "10909                   3   Personal Auto   Personal L1            Offer4   \n",
       "\n",
       "       Sales Channel  Total Claim Amount  Vehicle Class  Vehicle Size  \\\n",
       "0              Agent          292.800000  Four-Door Car       Medsize   \n",
       "1        Call Center          744.924331  Four-Door Car       Medsize   \n",
       "2        Call Center          480.000000            SUV       Medsize   \n",
       "3             Branch          484.013411  Four-Door Car       Medsize   \n",
       "4             Branch          707.925645  Four-Door Car       Medsize   \n",
       "...              ...                 ...            ...           ...   \n",
       "10905            Web         1214.400000     Luxury Car       Medsize   \n",
       "10906         Branch          273.018929  Four-Door Car       Medsize   \n",
       "10907            Web          381.306996     Luxury SUV       Medsize   \n",
       "10908         Branch          618.288849            SUV       Medsize   \n",
       "10909            Web         1021.719397            SUV       Medsize   \n",
       "\n",
       "      Vehicle Type month  \n",
       "0              NaN     2  \n",
       "1              NaN     1  \n",
       "2                A     2  \n",
       "3                A     1  \n",
       "4              NaN     1  \n",
       "...            ...   ...  \n",
       "10905            A     1  \n",
       "10906            A     1  \n",
       "10907          NaN     2  \n",
       "10908            A     2  \n",
       "10909          NaN     1  \n",
       "\n",
       "[10910 rows x 27 columns]"
      ]
     },
     "execution_count": 51,
     "metadata": {},
     "output_type": "execute_result"
    }
   ],
   "source": [
    "#Get data for the first quarter only\n",
    "data[data['month']<=3]"
   ]
  },
  {
   "cell_type": "code",
   "execution_count": null,
   "id": "fb1eb200",
   "metadata": {},
   "outputs": [],
   "source": [
    "#PLOT TWIST: It was only ever data for January and February to begin with"
   ]
  },
  {
   "cell_type": "markdown",
   "id": "a5eab4d9",
   "metadata": {},
   "source": [
    "## 7. BONUS: Put all the previously mentioned data transformations into a function."
   ]
  },
  {
   "cell_type": "markdown",
   "id": "04def115",
   "metadata": {},
   "source": [
    "### Note: Erin said to put *all* the above in a function, but I'm doing only the transformations, not the retrieval of info, just to prevent clutter when I re-run it."
   ]
  },
  {
   "cell_type": "code",
   "execution_count": 106,
   "id": "f9a6d938",
   "metadata": {},
   "outputs": [],
   "source": [
    "import pandas as pd\n",
    "\n",
    "def cleandata(file):\n",
    "    \n",
    "    #Read the data\n",
    "    data = pd.read_csv(file)\n",
    "    \n",
    "    #Standardize header names\n",
    "    data = data.rename(columns={'Unnamed: 0':'ID number', 'EmploymentStatus':'Employment Status'})\n",
    "    \n",
    "    #deal with NaN values\n",
    "    data = data[data['State'].isna() == False]\n",
    "    data = data[data['Months Since Last Claim'].isna() == False]\n",
    "    data = data[data['Vehicle Class'].isna() == False]\n",
    "    data = data.drop(['Vehicle Type'], axis = 1)\n",
    "    \n",
    "    #reset the index\n",
    "    data = data.reset_index(drop=True)\n",
    "    \n",
    "    #months in separate column\n",
    "    data['month'] = [item.month for item in pd.to_datetime(data['Effective To Date'], errors='coerce')]\n",
    "    \n",
    "    return data"
   ]
  },
  {
   "cell_type": "code",
   "execution_count": 107,
   "id": "21166fd9",
   "metadata": {},
   "outputs": [],
   "source": [
    "# And then I run this function to see if it works (and to initialize for Lab 3 if I close the notebook and come back)\n",
    "\n",
    "cleandata('./files_for_lab/csv_files/marketing_customer_analysis.csv')\n",
    "\n",
    "data = cleandata('./files_for_lab/csv_files/marketing_customer_analysis.csv')\n",
    "\n",
    "# And in the same cell, I also import pandas, numpy, and matplotlib\n",
    "import pandas as pd\n",
    "import numpy as np\n",
    "import matplotlib.pyplot as plt\n",
    "import seaborn as sns"
   ]
  },
  {
   "cell_type": "markdown",
   "id": "d76ecbb2",
   "metadata": {},
   "source": [
    "# Lab 3\n",
    "\n",
    "\n",
    "\n",
    "# Rik"
   ]
  },
  {
   "cell_type": "code",
   "execution_count": null,
   "id": "ecaed4d0",
   "metadata": {},
   "outputs": [],
   "source": [
    "'''For this lab, we still keep using the marketing_customer_analysis.csv file. You can find the file in the files_for_lab folder.\n",
    "Get the data\n",
    "\n",
    "    Use the same jupyter file from the last lab, Customer Analysis Round 3\n",
    "\n",
    "EDA (Exploratory Data Analysis) - Complete the following tasks to explore the data:\n",
    "\n",
    "    Show DataFrame info.\n",
    "    Describe DataFrame.\n",
    "    Show a plot of the total number of responses.\n",
    "    Show a plot of the response rate by the sales channel.\n",
    "    Show a plot of the response rate by the total claim amount.\n",
    "    Show a plot of the response rate by income.\n",
    "'''\n"
   ]
  },
  {
   "cell_type": "markdown",
   "id": "1bd5ee32",
   "metadata": {},
   "source": [
    "## Show DataFrame info."
   ]
  },
  {
   "cell_type": "code",
   "execution_count": 112,
   "id": "d0ddedad",
   "metadata": {},
   "outputs": [
    {
     "name": "stdout",
     "output_type": "stream",
     "text": [
      "<class 'pandas.core.frame.DataFrame'>\n",
      "RangeIndex: 9134 entries, 0 to 9133\n",
      "Data columns (total 26 columns):\n",
      " #   Column                         Non-Null Count  Dtype  \n",
      "---  ------                         --------------  -----  \n",
      " 0   ID number                      9134 non-null   int64  \n",
      " 1   Customer                       9134 non-null   object \n",
      " 2   State                          9134 non-null   object \n",
      " 3   Customer Lifetime Value        9134 non-null   float64\n",
      " 4   Response                       9134 non-null   object \n",
      " 5   Coverage                       9134 non-null   object \n",
      " 6   Education                      9134 non-null   object \n",
      " 7   Effective To Date              9134 non-null   object \n",
      " 8   Employment Status              9134 non-null   object \n",
      " 9   Gender                         9134 non-null   object \n",
      " 10  Income                         9134 non-null   int64  \n",
      " 11  Location Code                  9134 non-null   object \n",
      " 12  Marital Status                 9134 non-null   object \n",
      " 13  Monthly Premium Auto           9134 non-null   int64  \n",
      " 14  Months Since Last Claim        9134 non-null   float64\n",
      " 15  Months Since Policy Inception  9134 non-null   int64  \n",
      " 16  Number of Open Complaints      9134 non-null   float64\n",
      " 17  Number of Policies             9134 non-null   int64  \n",
      " 18  Policy Type                    9134 non-null   object \n",
      " 19  Policy                         9134 non-null   object \n",
      " 20  Renew Offer Type               9134 non-null   object \n",
      " 21  Sales Channel                  9134 non-null   object \n",
      " 22  Total Claim Amount             9134 non-null   float64\n",
      " 23  Vehicle Class                  9134 non-null   object \n",
      " 24  Vehicle Size                   9134 non-null   object \n",
      " 25  month                          9134 non-null   int64  \n",
      "dtypes: float64(4), int64(6), object(16)\n",
      "memory usage: 1.8+ MB\n"
     ]
    }
   ],
   "source": [
    "data.info()"
   ]
  },
  {
   "cell_type": "markdown",
   "id": "77948647",
   "metadata": {},
   "source": [
    "## Describe DataFrame."
   ]
  },
  {
   "cell_type": "code",
   "execution_count": 7,
   "id": "cb35ce44",
   "metadata": {},
   "outputs": [
    {
     "data": {
      "text/html": [
       "<div>\n",
       "<style scoped>\n",
       "    .dataframe tbody tr th:only-of-type {\n",
       "        vertical-align: middle;\n",
       "    }\n",
       "\n",
       "    .dataframe tbody tr th {\n",
       "        vertical-align: top;\n",
       "    }\n",
       "\n",
       "    .dataframe thead th {\n",
       "        text-align: right;\n",
       "    }\n",
       "</style>\n",
       "<table border=\"1\" class=\"dataframe\">\n",
       "  <thead>\n",
       "    <tr style=\"text-align: right;\">\n",
       "      <th></th>\n",
       "      <th>count</th>\n",
       "      <th>mean</th>\n",
       "      <th>std</th>\n",
       "      <th>min</th>\n",
       "      <th>25%</th>\n",
       "      <th>50%</th>\n",
       "      <th>75%</th>\n",
       "      <th>max</th>\n",
       "    </tr>\n",
       "  </thead>\n",
       "  <tbody>\n",
       "    <tr>\n",
       "      <th>ID number</th>\n",
       "      <td>9134.0</td>\n",
       "      <td>5490.357675</td>\n",
       "      <td>3148.183236</td>\n",
       "      <td>0.000000</td>\n",
       "      <td>2764.250000</td>\n",
       "      <td>5508.500000</td>\n",
       "      <td>8218.750000</td>\n",
       "      <td>10908.000000</td>\n",
       "    </tr>\n",
       "    <tr>\n",
       "      <th>Customer Lifetime Value</th>\n",
       "      <td>9134.0</td>\n",
       "      <td>8004.940475</td>\n",
       "      <td>6870.967608</td>\n",
       "      <td>1898.007675</td>\n",
       "      <td>3994.251794</td>\n",
       "      <td>5780.182197</td>\n",
       "      <td>8962.167041</td>\n",
       "      <td>83325.381190</td>\n",
       "    </tr>\n",
       "    <tr>\n",
       "      <th>Income</th>\n",
       "      <td>9134.0</td>\n",
       "      <td>37657.380009</td>\n",
       "      <td>30379.904734</td>\n",
       "      <td>0.000000</td>\n",
       "      <td>0.000000</td>\n",
       "      <td>33889.500000</td>\n",
       "      <td>62320.000000</td>\n",
       "      <td>99981.000000</td>\n",
       "    </tr>\n",
       "    <tr>\n",
       "      <th>Monthly Premium Auto</th>\n",
       "      <td>9134.0</td>\n",
       "      <td>93.219291</td>\n",
       "      <td>34.407967</td>\n",
       "      <td>61.000000</td>\n",
       "      <td>68.000000</td>\n",
       "      <td>83.000000</td>\n",
       "      <td>109.000000</td>\n",
       "      <td>298.000000</td>\n",
       "    </tr>\n",
       "    <tr>\n",
       "      <th>Months Since Last Claim</th>\n",
       "      <td>9134.0</td>\n",
       "      <td>15.097000</td>\n",
       "      <td>10.073257</td>\n",
       "      <td>0.000000</td>\n",
       "      <td>6.000000</td>\n",
       "      <td>14.000000</td>\n",
       "      <td>23.000000</td>\n",
       "      <td>35.000000</td>\n",
       "    </tr>\n",
       "    <tr>\n",
       "      <th>Months Since Policy Inception</th>\n",
       "      <td>9134.0</td>\n",
       "      <td>48.064594</td>\n",
       "      <td>27.905991</td>\n",
       "      <td>0.000000</td>\n",
       "      <td>24.000000</td>\n",
       "      <td>48.000000</td>\n",
       "      <td>71.000000</td>\n",
       "      <td>99.000000</td>\n",
       "    </tr>\n",
       "    <tr>\n",
       "      <th>Number of Open Complaints</th>\n",
       "      <td>9134.0</td>\n",
       "      <td>0.384388</td>\n",
       "      <td>0.910384</td>\n",
       "      <td>0.000000</td>\n",
       "      <td>0.000000</td>\n",
       "      <td>0.000000</td>\n",
       "      <td>0.000000</td>\n",
       "      <td>5.000000</td>\n",
       "    </tr>\n",
       "    <tr>\n",
       "      <th>Number of Policies</th>\n",
       "      <td>9134.0</td>\n",
       "      <td>2.966170</td>\n",
       "      <td>2.390182</td>\n",
       "      <td>1.000000</td>\n",
       "      <td>1.000000</td>\n",
       "      <td>2.000000</td>\n",
       "      <td>4.000000</td>\n",
       "      <td>9.000000</td>\n",
       "    </tr>\n",
       "    <tr>\n",
       "      <th>Total Claim Amount</th>\n",
       "      <td>9134.0</td>\n",
       "      <td>434.088794</td>\n",
       "      <td>290.500092</td>\n",
       "      <td>0.099007</td>\n",
       "      <td>272.258244</td>\n",
       "      <td>383.945434</td>\n",
       "      <td>547.514839</td>\n",
       "      <td>2893.239678</td>\n",
       "    </tr>\n",
       "    <tr>\n",
       "      <th>month</th>\n",
       "      <td>9134.0</td>\n",
       "      <td>1.463762</td>\n",
       "      <td>0.498712</td>\n",
       "      <td>1.000000</td>\n",
       "      <td>1.000000</td>\n",
       "      <td>1.000000</td>\n",
       "      <td>2.000000</td>\n",
       "      <td>2.000000</td>\n",
       "    </tr>\n",
       "  </tbody>\n",
       "</table>\n",
       "</div>"
      ],
      "text/plain": [
       "                                count          mean           std  \\\n",
       "ID number                      9134.0   5490.357675   3148.183236   \n",
       "Customer Lifetime Value        9134.0   8004.940475   6870.967608   \n",
       "Income                         9134.0  37657.380009  30379.904734   \n",
       "Monthly Premium Auto           9134.0     93.219291     34.407967   \n",
       "Months Since Last Claim        9134.0     15.097000     10.073257   \n",
       "Months Since Policy Inception  9134.0     48.064594     27.905991   \n",
       "Number of Open Complaints      9134.0      0.384388      0.910384   \n",
       "Number of Policies             9134.0      2.966170      2.390182   \n",
       "Total Claim Amount             9134.0    434.088794    290.500092   \n",
       "month                          9134.0      1.463762      0.498712   \n",
       "\n",
       "                                       min          25%           50%  \\\n",
       "ID number                         0.000000  2764.250000   5508.500000   \n",
       "Customer Lifetime Value        1898.007675  3994.251794   5780.182197   \n",
       "Income                            0.000000     0.000000  33889.500000   \n",
       "Monthly Premium Auto             61.000000    68.000000     83.000000   \n",
       "Months Since Last Claim           0.000000     6.000000     14.000000   \n",
       "Months Since Policy Inception     0.000000    24.000000     48.000000   \n",
       "Number of Open Complaints         0.000000     0.000000      0.000000   \n",
       "Number of Policies                1.000000     1.000000      2.000000   \n",
       "Total Claim Amount                0.099007   272.258244    383.945434   \n",
       "month                             1.000000     1.000000      1.000000   \n",
       "\n",
       "                                        75%           max  \n",
       "ID number                       8218.750000  10908.000000  \n",
       "Customer Lifetime Value         8962.167041  83325.381190  \n",
       "Income                         62320.000000  99981.000000  \n",
       "Monthly Premium Auto             109.000000    298.000000  \n",
       "Months Since Last Claim           23.000000     35.000000  \n",
       "Months Since Policy Inception     71.000000     99.000000  \n",
       "Number of Open Complaints          0.000000      5.000000  \n",
       "Number of Policies                 4.000000      9.000000  \n",
       "Total Claim Amount               547.514839   2893.239678  \n",
       "month                              2.000000      2.000000  "
      ]
     },
     "execution_count": 7,
     "metadata": {},
     "output_type": "execute_result"
    }
   ],
   "source": [
    "data.describe()"
   ]
  },
  {
   "cell_type": "markdown",
   "id": "9ca0dc93",
   "metadata": {},
   "source": [
    "## Show a plot of the total number of responses."
   ]
  },
  {
   "cell_type": "code",
   "execution_count": 29,
   "id": "17c24d49",
   "metadata": {},
   "outputs": [
    {
     "name": "stdout",
     "output_type": "stream",
     "text": [
      "1308 x Yes\n",
      "7826 x No\n"
     ]
    }
   ],
   "source": [
    "#First check which responses there are and how many of each, so I can check later if I did it right\n",
    "data['Response'].unique()\n",
    "# -> only 'No' and 'Yes'\n",
    "\n",
    "print(len(data[data['Response']=='Yes']), 'x Yes')\n",
    "print(len(data[data['Response']=='No']), 'x No')\n",
    "\n",
    "# A scatter plot does not make a lot of sense, since we're dealing with categorial data. I'll do a pie chart instead"
   ]
  },
  {
   "cell_type": "code",
   "execution_count": 42,
   "id": "3e2b4a3f",
   "metadata": {},
   "outputs": [
    {
     "data": {
      "image/png": "[encoded data removed]",
      "text/plain": [
       "<Figure size 432x288 with 1 Axes>"
      ]
     },
     "metadata": {},
     "output_type": "display_data"
    }
   ],
   "source": [
    "#First, calculate the respective percentages for 'Yes' and 'No' responses\n",
    "\n",
    "yespercent = len(data[data['Response']=='Yes'])/len(data)*100\n",
    "nopercent = len(data[data['Response']=='No'])/len(data)*100\n",
    "\n",
    "\n",
    "#Then, generate labels for the pie chart that show these percentages.\n",
    "mylabels = ['Yes: '+str(round(yespercent,0))+'%', 'No: '+str(round(nopercent,0))+'%']\n",
    "\n",
    "#Finally, draw the plot\n",
    "plt.pie([yespercent, nopercent], labels=mylabels)\n",
    "plt.show()"
   ]
  },
  {
   "cell_type": "markdown",
   "id": "ecd180c5",
   "metadata": {},
   "source": [
    "## Show a plot of the response rate by the sales channel."
   ]
  },
  {
   "cell_type": "markdown",
   "id": "45c323f1",
   "metadata": {},
   "source": [
    "### Chapter 1: getting the relevant data in order"
   ]
  },
  {
   "cell_type": "code",
   "execution_count": 44,
   "id": "b2ecfaea",
   "metadata": {},
   "outputs": [
    {
     "name": "stdout",
     "output_type": "stream",
     "text": [
      "['Agent' 'Call Center' 'Branch' 'Web']\n",
      "['Agent' 'Call Center' 'Branch' 'Web']\n"
     ]
    }
   ],
   "source": [
    "# First, figure out which sales channels there are\n",
    "data['Sales Channel'].unique()\n",
    "\n",
    "# And for good measure, store that in a list\n",
    "channels = data['Sales Channel'].unique()"
   ]
  },
  {
   "cell_type": "code",
   "execution_count": 52,
   "id": "2ad2fae5",
   "metadata": {},
   "outputs": [
    {
     "name": "stdout",
     "output_type": "stream",
     "text": [
      "[3477, 1765, 2567, 1325]\n"
     ]
    }
   ],
   "source": [
    "# Next, figure out the response rates per sales channel\n",
    "# The first step is to get the total number of entries per sales channels\n",
    "\n",
    "channeltotals = []\n",
    "for channel in channels:\n",
    "    channeltotals.append(len(data[data['Sales Channel']==channel]))\n",
    "print(channeltotals)"
   ]
  },
  {
   "cell_type": "code",
   "execution_count": 56,
   "id": "d3764007",
   "metadata": {},
   "outputs": [
    {
     "name": "stdout",
     "output_type": "stream",
     "text": [
      "[666, 192, 294, 156]\n"
     ]
    }
   ],
   "source": [
    "# The next step is to get the number of yeses for each sales channel\n",
    "\n",
    "channelyes = []\n",
    "for channel in channels:\n",
    "    channelyes.append(len(data[(data['Sales Channel']==channel) & (data['Response']=='Yes')]))\n",
    "print(channelyes)"
   ]
  },
  {
   "cell_type": "code",
   "execution_count": 70,
   "id": "65986fe6",
   "metadata": {},
   "outputs": [],
   "source": [
    "# Then get percentages of yes per channel\n",
    "yes_percent_channel = []\n",
    "for i in range(4):\n",
    "    yes_percent_channel.append(round((channelyes[i]/channeltotals[i]*100),2))"
   ]
  },
  {
   "cell_type": "markdown",
   "id": "296c722f",
   "metadata": {},
   "source": [
    "### Chapter 2: The (mat)plot(lib) thickens"
   ]
  },
  {
   "cell_type": "code",
   "execution_count": 76,
   "id": "0d21e61c",
   "metadata": {},
   "outputs": [
    {
     "data": {
      "image/png": "[encoded data removed]",
      "text/plain": [
       "<Figure size 432x288 with 1 Axes>"
      ]
     },
     "metadata": {
      "needs_background": "light"
     },
     "output_type": "display_data"
    }
   ],
   "source": [
    "plt.bar(channels,yes_percent_channel)\n",
    "plt.show()"
   ]
  },
  {
   "cell_type": "code",
   "execution_count": 77,
   "id": "0fefcc10",
   "metadata": {},
   "outputs": [
    {
     "data": {
      "image/png": "[encoded data removed]",
      "text/plain": [
       "<Figure size 432x288 with 1 Axes>"
      ]
     },
     "metadata": {
      "needs_background": "light"
     },
     "output_type": "display_data"
    }
   ],
   "source": [
    "# And then make it prettier by adding labels and having the chart go all the way up to 100%\n",
    "plt.bar(channels,yes_percent_channel)\n",
    "plt.ylim(0,100)\n",
    "plt.xlabel='Sales Channel'\n",
    "plt.ylabel='Response rate (in %)'\n",
    "\n",
    "# Ok, going up to 100% is not exactly 'prettier', but it is more representative of the actual situation"
   ]
  },
  {
   "cell_type": "markdown",
   "id": "55bac750",
   "metadata": {},
   "source": [
    "## Show a plot of the response rate by the total claim amount."
   ]
  },
  {
   "cell_type": "code",
   "execution_count": null,
   "id": "59d0533d",
   "metadata": {},
   "outputs": [],
   "source": [
    "# This is a tough one - I have to decide how to simplify the 'total claim amount'\n",
    "# It seems to be a good first approximation to do another bar chart, with the quartiles on the x axis and the response rate (per quartile) on the y"
   ]
  },
  {
   "cell_type": "code",
   "execution_count": 86,
   "id": "0eb1fe75",
   "metadata": {},
   "outputs": [
    {
     "name": "stdout",
     "output_type": "stream",
     "text": [
      "2284 2283 2283 2284\n"
     ]
    }
   ],
   "source": [
    "# I'll be lazy and copy-paste the quartiles from data.describe():\n",
    "#min: 0.099007 25%: 272.258244 50%: 383.945434 75%: 547.514839 max: 2893.239678\n",
    "\n",
    "#First I'll get the total number of entries for each of the quartiles\n",
    "firsttotal=len(data[(data['Total Claim Amount']> 0) & (data['Total Claim Amount'] <= 272.258)])\n",
    "secondtotal=len(data[(data['Total Claim Amount']> 272.258) & (data['Total Claim Amount'] <= 383.945)])\n",
    "thirdtotal=len(data[(data['Total Claim Amount']> 383.945) & (data['Total Claim Amount'] <= 547.515)])\n",
    "fourthtotal=len(data[(data['Total Claim Amount']> 547.515) & (data['Total Claim Amount'] <= 2893.24)])\n",
    "\n",
    "print(firsttotal, secondtotal, thirdtotal, fourthtotal)\n",
    "\n",
    "#And as I'm looking at this I realize this could have been easier by just taking 25% of the total. D'oh."
   ]
  },
  {
   "cell_type": "code",
   "execution_count": 96,
   "id": "3ce713fd",
   "metadata": {},
   "outputs": [
    {
     "name": "stdout",
     "output_type": "stream",
     "text": [
      "0.09194395796847636 0.1628721541155867 0.1786339754816112 0.13922942206654992\n",
      "9.19 16.29 17.86 13.92\n"
     ]
    },
    {
     "data": {
      "image/png": "[encoded data removed]",
      "text/plain": [
       "<Figure size 432x288 with 1 Axes>"
      ]
     },
     "metadata": {
      "needs_background": "light"
     },
     "output_type": "display_data"
    }
   ],
   "source": [
    "first = len(data[(data['Total Claim Amount']> 0) & (data['Total Claim Amount'] <= 272.258) & (data['Response'] == 'Yes')])/2284\n",
    "second = len(data[(data['Total Claim Amount']> 272.258) & (data['Total Claim Amount'] <= 383.945) & (data['Response'] == 'Yes')])/2284\n",
    "third = len(data[(data['Total Claim Amount']> 383.945) & (data['Total Claim Amount'] <= 547.515) & (data['Response'] == 'Yes')])/2284\n",
    "fourth = len(data[(data['Total Claim Amount']> 547.515) & (data['Total Claim Amount'] <= 2893.24) & (data['Response'] == 'Yes')])/2284\n",
    "\n",
    "print(first, second, third, fourth)\n",
    "\n",
    "# I'm cutting this up into several steps because the code is getting unwieldy and hard to debug\n",
    "\n",
    "first = round(first*100, 2)\n",
    "second = round(second*100, 2)\n",
    "third = round(third*100, 2)\n",
    "fourth = round(fourth*100,2)\n",
    "\n",
    "print(first, second, third, fourth)\n"
   ]
  },
  {
   "cell_type": "code",
   "execution_count": 97,
   "id": "f8369a63",
   "metadata": {},
   "outputs": [
    {
     "data": {
      "image/png": "[encoded data removed]",
      "text/plain": [
       "<Figure size 432x288 with 1 Axes>"
      ]
     },
     "metadata": {
      "needs_background": "light"
     },
     "output_type": "display_data"
    }
   ],
   "source": [
    "# And here comes the plot\n",
    "\n",
    "plt.bar(['First Quartile', 'Second Quartile', 'Third Quartile', 'Fourth Quartile'],[first,second,third,fourth])\n",
    "plt.ylim(0,100)\n",
    "plt.xlabel='Total Claim Amount (in $)'\n",
    "plt.ylabel='Response rate (in %)'\n",
    "\n",
    "plt.show()"
   ]
  },
  {
   "cell_type": "code",
   "execution_count": 110,
   "id": "ba93a2c1",
   "metadata": {},
   "outputs": [
    {
     "data": {
      "text/plain": [
       "<seaborn.axisgrid.FacetGrid at 0x15fd43f40>"
      ]
     },
     "execution_count": 110,
     "metadata": {},
     "output_type": "execute_result"
    },
    {
     "data": {
      "image/png": "[encoded data removed]",
      "text/plain": [
       "<Figure size 360x360 with 1 Axes>"
      ]
     },
     "metadata": {
      "needs_background": "light"
     },
     "output_type": "display_data"
    }
   ],
   "source": [
    "# Trying something with seaborn\n",
    "\n",
    "sns.catplot(data=data, x='Response', y='Total Claim Amount')"
   ]
  },
  {
   "cell_type": "markdown",
   "id": "40bf21dd",
   "metadata": {},
   "source": [
    "## Show a plot of the response rate by income."
   ]
  },
  {
   "cell_type": "code",
   "execution_count": null,
   "id": "4d3450e5",
   "metadata": {},
   "outputs": [],
   "source": [
    "# This case looks a lot like the previous one (on the total claim amount), except that the first quartile consists entirely of people with 0 income.\n",
    "# Nevertheless, I'll do the exact same thing again, if only to get a first idea of what the distribution looks like."
   ]
  },
  {
   "cell_type": "code",
   "execution_count": 100,
   "id": "699016a7",
   "metadata": {},
   "outputs": [
    {
     "name": "stdout",
     "output_type": "stream",
     "text": [
      "0.0 0.20490367775831875 0.14448336252189142 0.13660245183887915\n",
      "0.0 20.49 14.45 13.66\n"
     ]
    }
   ],
   "source": [
    "#Here comes the copy-pasted data:\n",
    "# 0.000000 \t0.000000 \t33889.500000 \t62320.000000 \t99981.000000\n",
    "\n",
    "#Using variable names 'FirstA' but in lowercase. Sounds like JarJar Binks, I know - but I don't want any interference with the above chart by re-using variable names.\n",
    "\n",
    "firsta = len(data[(data['Income']> 0) & (data['Income'] <= 0) & (data['Response'] == 'Yes')])/2284\n",
    "seconda = len(data[(data['Income']> 0) & (data['Income'] <= 33889.5) & (data['Response'] == 'Yes')])/2284\n",
    "thirda = len(data[(data['Income']> 33889.5) & (data['Income'] <= 62320) & (data['Response'] == 'Yes')])/2284\n",
    "fourtha = len(data[(data['Income']> 62320) & (data['Income'] <= 99981) & (data['Response'] == 'Yes')])/2284\n",
    "\n",
    "print(firsta, seconda, thirda, fourtha)\n",
    "\n",
    "firsta = round(firsta*100, 2)\n",
    "seconda = round(seconda*100, 2)\n",
    "thirda = round(thirda*100, 2)\n",
    "fourtha = round(fourtha*100,2)\n",
    "\n",
    "print(firsta, seconda, thirda, fourtha)"
   ]
  },
  {
   "cell_type": "code",
   "execution_count": 101,
   "id": "eccb1916",
   "metadata": {},
   "outputs": [
    {
     "data": {
      "image/png": "[encoded data removed]",
      "text/plain": [
       "<Figure size 432x288 with 1 Axes>"
      ]
     },
     "metadata": {
      "needs_background": "light"
     },
     "output_type": "display_data"
    }
   ],
   "source": [
    "plt.bar(['First Quartile', 'Second Quartile', 'Third Quartile', 'Fourth Quartile'],[firsta,seconda,thirda,fourtha])\n",
    "plt.ylim(0,100)\n",
    "plt.xlabel='Total Claim Amount (in $)'\n",
    "plt.ylabel='Response rate (in %)'\n",
    "\n",
    "plt.show()"
   ]
  },
  {
   "cell_type": "code",
   "execution_count": 111,
   "id": "fcdec843",
   "metadata": {},
   "outputs": [
    {
     "data": {
      "text/plain": [
       "<seaborn.axisgrid.FacetGrid at 0x15f8b8a60>"
      ]
     },
     "execution_count": 111,
     "metadata": {},
     "output_type": "execute_result"
    },
    {
     "data": {
      "image/png": "[encoded data removed]",
      "text/plain": [
       "<Figure size 360x360 with 1 Axes>"
      ]
     },
     "metadata": {
      "needs_background": "light"
     },
     "output_type": "display_data"
    }
   ],
   "source": [
    "# And do the seaborn thing again\n",
    "\n",
    "sns.catplot(data=data, x=\"Response\", y=\"Income\")"
   ]
  },
  {
   "cell_type": "code",
   "execution_count": null,
   "id": "3a18bc6a",
   "metadata": {},
   "outputs": [],
   "source": []
  }
 ],
 "metadata": {
  "kernelspec": {
   "display_name": "Python 3 (ipykernel)",
   "language": "python",
   "name": "python3"
  },
  "language_info": {
   "codemirror_mode": {
    "name": "ipython",
    "version": 3
   },
   "file_extension": ".py",
   "mimetype": "text/x-python",
   "name": "python",
   "nbconvert_exporter": "python",
   "pygments_lexer": "ipython3",
   "version": "3.10.6"
  }
 },
 "nbformat": 4,
 "nbformat_minor": 5
}
